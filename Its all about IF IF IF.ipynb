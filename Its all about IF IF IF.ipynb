{
 "cells": [
  {
   "cell_type": "code",
   "execution_count": 1,
   "metadata": {
    "collapsed": true
   },
   "outputs": [],
   "source": [
    "import numpy as np"
   ]
  },
  {
   "cell_type": "code",
   "execution_count": 2,
   "metadata": {
    "collapsed": true
   },
   "outputs": [],
   "source": [
    "from numpy.random import randn"
   ]
  },
  {
   "cell_type": "code",
   "execution_count": 10,
   "metadata": {
    "collapsed": false
   },
   "outputs": [
    {
     "data": {
      "text/plain": [
       "0.8465095958591511"
      ]
     },
     "execution_count": 10,
     "metadata": {},
     "output_type": "execute_result"
    }
   ],
   "source": [
    "randn()"
   ]
  },
  {
   "cell_type": "code",
   "execution_count": 20,
   "metadata": {
    "collapsed": false
   },
   "outputs": [
    {
     "name": "stdout",
     "output_type": "stream",
     "text": [
      "0.180762462553\n",
      "None\n"
     ]
    }
   ],
   "source": [
    "#-----------2-----1-------0--------1---------2\n",
    "ans= None\n",
    "x=randn()\n",
    "if x>1:\n",
    "    ans=\"GE then 1\"\n",
    "print(x)\n",
    "print(ans)"
   ]
  },
  {
   "cell_type": "code",
   "execution_count": 21,
   "metadata": {
    "collapsed": false
   },
   "outputs": [
    {
     "name": "stdout",
     "output_type": "stream",
     "text": [
      "-0.929559315496\n",
      "LE then 1\n"
     ]
    }
   ],
   "source": [
    "#-----------2-----1-------0--------1---------2\n",
    "ans= None\n",
    "x=randn()\n",
    "if x>1:\n",
    "    ans=\"GE then 1\"\n",
    "else:\n",
    "    ans=\"LE then 1\"\n",
    "print(x)\n",
    "print(ans)"
   ]
  },
  {
   "cell_type": "code",
   "execution_count": 37,
   "metadata": {
    "collapsed": false
   },
   "outputs": [
    {
     "name": "stdout",
     "output_type": "stream",
     "text": [
      "-1.23386480794\n",
      "Nothing!!!!\n"
     ]
    }
   ],
   "source": [
    "#-----------2-----1-------0--------1---------2\n",
    "# Nested Statements Mind it or not this language is case sensitive \n",
    "ans= None\n",
    "x=randn()\n",
    "if x>1:\n",
    "     ans=\"LE then 2\"\n",
    "else:\n",
    "    if x > 0:\n",
    "        ans=\"LE then 1\"\n",
    "    else:\n",
    "        ans=\"Nothing!!!!\"\n",
    "print(x)\n",
    "print(ans)    "
   ]
  },
  {
   "cell_type": "code",
   "execution_count": 62,
   "metadata": {
    "collapsed": false
   },
   "outputs": [
    {
     "name": "stdout",
     "output_type": "stream",
     "text": [
      "1.67173873824\n",
      "LE then 2\n"
     ]
    }
   ],
   "source": [
    "# Chained Statements\n",
    "#-----------2-----1-------0--------1---------2\n",
    "# Need to resolve this\n",
    "ans= None\n",
    "x=randn()\n",
    "if x>1:\n",
    "    ans=\"LE then 2\"\n",
    "elif x > 0:\n",
    "    ans=\"LE then 1\"\n",
    "else:\n",
    "    ans=\"Nothing!!!!\"\n",
    "print(x)\n",
    "print(ans)"
   ]
  }
 ],
 "metadata": {
  "anaconda-cloud": {},
  "kernelspec": {
   "display_name": "Python [conda root]",
   "language": "python",
   "name": "conda-root-py"
  },
  "language_info": {
   "codemirror_mode": {
    "name": "ipython",
    "version": 2
   },
   "file_extension": ".py",
   "mimetype": "text/x-python",
   "name": "python",
   "nbconvert_exporter": "python",
   "pygments_lexer": "ipython2",
   "version": "2.7.12"
  }
 },
 "nbformat": 4,
 "nbformat_minor": 1
}
