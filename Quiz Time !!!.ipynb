{
 "cells": [
  {
   "cell_type": "code",
   "execution_count": 1,
   "metadata": {
    "collapsed": true
   },
   "outputs": [],
   "source": [
    "import numpy as np"
   ]
  },
  {
   "cell_type": "code",
   "execution_count": 2,
   "metadata": {
    "collapsed": true
   },
   "outputs": [],
   "source": [
    "from numpy.random import randn"
   ]
  },
  {
   "cell_type": "code",
   "execution_count": 61,
   "metadata": {
    "collapsed": true
   },
   "outputs": [],
   "source": [
    "import math"
   ]
  },
  {
   "cell_type": "code",
   "execution_count": 159,
   "metadata": {
    "collapsed": false
   },
   "outputs": [
    {
     "name": "stdout",
     "output_type": "stream",
     "text": [
      "31852\n",
      "68148\n",
      "68\n",
      "31\n"
     ]
    }
   ],
   "source": [
    "Yoyo_counter=0\n",
    "for i in randn(100000):\n",
    "    if i>=-1 and i<=1:\n",
    "        Yoyo_counter=Yoyo_counter+1\n",
    "No_yoyo=100000-Yoyo_counter\n",
    "fall_in_Avg=(Yoyo_counter/1000)\n",
    "No_fall_in_avg=(No_yoyo/1000)\n",
    "print(No_yoyo)\n",
    "print(Yoyo_counter)\n",
    "print(fall_in_Avg)\n",
    "print(No_fall_in_avg)"
   ]
  }
 ],
 "metadata": {
  "anaconda-cloud": {},
  "kernelspec": {
   "display_name": "Python [conda root]",
   "language": "python",
   "name": "conda-root-py"
  },
  "language_info": {
   "codemirror_mode": {
    "name": "ipython",
    "version": 2
   },
   "file_extension": ".py",
   "mimetype": "text/x-python",
   "name": "python",
   "nbconvert_exporter": "python",
   "pygments_lexer": "ipython2",
   "version": "2.7.12"
  }
 },
 "nbformat": 4,
 "nbformat_minor": 1
}
