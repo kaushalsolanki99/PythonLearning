{
 "cells": [
  {
   "cell_type": "code",
   "execution_count": 1,
   "metadata": {
    "collapsed": true
   },
   "outputs": [],
   "source": [
    "var1=\"name\""
   ]
  },
  {
   "cell_type": "code",
   "execution_count": 2,
   "metadata": {
    "collapsed": false
   },
   "outputs": [
    {
     "name": "stdout",
     "output_type": "stream",
     "text": [
      "name\n"
     ]
    }
   ],
   "source": [
    "print(var1)"
   ]
  },
  {
   "cell_type": "code",
   "execution_count": 3,
   "metadata": {
    "collapsed": true
   },
   "outputs": [],
   "source": [
    "val1=\"Python is good to learn\"\n",
    "val2=\"Python is not good to learn\""
   ]
  },
  {
   "cell_type": "code",
   "execution_count": 4,
   "metadata": {
    "collapsed": true
   },
   "outputs": [],
   "source": [
    "var3=\"It was fun the while loop\"\n",
    "counter=0"
   ]
  },
  {
   "cell_type": "code",
   "execution_count": 5,
   "metadata": {
    "collapsed": false
   },
   "outputs": [
    {
     "name": "stdout",
     "output_type": "stream",
     "text": [
      "Python is good to learn\n",
      "Python is not good to learn\n",
      "Python is good to learn\n",
      "Python is not good to learn\n",
      "Python is good to learn\n",
      "Python is not good to learn\n",
      "Python is good to learn\n",
      "Python is not good to learn\n",
      "Python is good to learn\n",
      "Python is not good to learn\n",
      "Python is good to learn\n",
      "Python is not good to learn\n",
      "Python is good to learn\n",
      "Python is not good to learn\n",
      "Python is good to learn\n",
      "Python is not good to learn\n",
      "Python is good to learn\n",
      "Python is not good to learn\n",
      "Python is good to learn\n",
      "Python is not good to learn\n",
      "Python is good to learn\n",
      "Python is not good to learn\n",
      "It was fun the while loop\n"
     ]
    }
   ],
   "source": [
    "while counter<11:\n",
    "    print(val1)\n",
    "    print(val2)\n",
    "    counter=counter+1\n",
    "print(var3)"
   ]
  },
  {
   "cell_type": "code",
   "execution_count": null,
   "metadata": {
    "collapsed": true
   },
   "outputs": [],
   "source": []
  }
 ],
 "metadata": {
  "kernelspec": {
   "display_name": "Python [conda root]",
   "language": "python",
   "name": "conda-root-py"
  },
  "language_info": {
   "codemirror_mode": {
    "name": "ipython",
    "version": 2
   },
   "file_extension": ".py",
   "mimetype": "text/x-python",
   "name": "python",
   "nbconvert_exporter": "python",
   "pygments_lexer": "ipython2",
   "version": "2.7.12"
  }
 },
 "nbformat": 4,
 "nbformat_minor": 1
}
